{
 "cells": [
  {
   "cell_type": "code",
   "execution_count": 2,
   "metadata": {},
   "outputs": [],
   "source": [
    "import cv2\n",
    "import numpy as np"
   ]
  },
  {
   "cell_type": "code",
   "execution_count": 3,
   "metadata": {},
   "outputs": [],
   "source": [
    "left_img_path = './data/tsukuba/left.png'\n",
    "right_img_path = './data/tsukuba/right.png'\n",
    "disparity_range = 16"
   ]
  },
  {
   "cell_type": "code",
   "execution_count": 20,
   "metadata": {},
   "outputs": [],
   "source": [
    "\n",
    "def l1_distance(x, y):\n",
    "    return abs(x - y)\n",
    "\n",
    "\n",
    "def pixel_wise_matching_l1(left_img, right_img, disparity_range, save_result=True):\n",
    "    # Read left, right image then convert to grayscale and astype float\n",
    "    left = cv2.imread(left_img, 0).astype(np.float32)\n",
    "    right = cv2.imread(right_img, 0).astype(np.float32)\n",
    "\n",
    "    # Initialize h,w = h,w(left)\n",
    "    height, width = left.shape[:2]\n",
    "\n",
    "    # Create blank disparity map\n",
    "    depth = np.zeros((height, width), np.uint8)\n",
    "    scale = 16\n",
    "    max_value = 255\n",
    "\n",
    "    for y in range(height):\n",
    "        for x in range(width):\n",
    "            disparity = 0\n",
    "            cost_min = max_value\n",
    "\n",
    "            for d in range(disparity_range):\n",
    "                cost = max_value if (\n",
    "                    x - d) < 0 else l1_distance(int(left[y, x]), int(right[y, x - d]))\n",
    "                if cost < cost_min:\n",
    "                    cost_min = cost\n",
    "                    disparity = d\n",
    "            \n",
    "\n",
    "            # Let depth at (y, x) = d (disparity)\n",
    "            # Multiply by a scale factor for visualization purpose\n",
    "            depth[y, x] = disparity * scale\n",
    "\n",
    "    if save_result == True:\n",
    "        print('Saving result...')\n",
    "        cv2.imwrite(f'pixel_wise_l1.png', depth)\n",
    "        cv2.imwrite(f'pixel_wise_l1_color.png', cv2.applyColorMap(depth, cv2.COLORMAP_JET))\n",
    "    print('Done.')\n",
    "    return depth"
   ]
  },
  {
   "cell_type": "code",
   "execution_count": 24,
   "metadata": {},
   "outputs": [
    {
     "name": "stdout",
     "output_type": "stream",
     "text": [
      "Saving result...\n",
      "Done.\n"
     ]
    },
    {
     "ename": "",
     "evalue": "",
     "output_type": "error",
     "traceback": [
      "\u001b[1;31mThe Kernel crashed while executing code in the current cell or a previous cell. \n",
      "\u001b[1;31mPlease review the code in the cell(s) to identify a possible cause of the failure. \n",
      "\u001b[1;31mClick <a href='https://aka.ms/vscodeJupyterKernelCrash'>here</a> for more info. \n",
      "\u001b[1;31mView Jupyter <a href='command:jupyter.viewOutput'>log</a> for further details."
     ]
    }
   ],
   "source": [
    "# L1 result\n",
    "depth, color = pixel_wise_matching_l1(\n",
    "    left_img_path,\n",
    "    right_img_path,\n",
    "    disparity_range,\n",
    "    save_result=True\n",
    ")\n",
    "cv2.imshow('depth',depth)"
   ]
  },
  {
   "cell_type": "code",
   "execution_count": 6,
   "metadata": {},
   "outputs": [],
   "source": [
    "def l2_distance(x, y):\n",
    "    return (x - y) ** 2\n",
    "\n",
    "def pixel_wise_matching_l2(left_img, right_img, disparity_range, save_result=True):\n",
    "    # Read left, right image then convert to grayscale and astype float\n",
    "    left = cv2.imread(left_img, 0).astype(np.float32)\n",
    "    right = cv2.imread(right_img, 0).astype(np.float32)\n",
    "\n",
    "    height, width = left.shape[:2]\n",
    "\n",
    "    # Create blank disparity map\n",
    "    depth = np.zeros((height, width), np.uint8)\n",
    "    scale = 16\n",
    "    max_value = 255 ** 2\n",
    "\n",
    "    for y in range(height):\n",
    "        for x in range(width):\n",
    "            disparity = 0\n",
    "            cost_min  = max_value\n",
    "\n",
    "            for d in range(disparity_range):\n",
    "                cost = max_value if (x - d) < 0 else l2_distance(int(left[y, x]), int(right[y, x - d]))\n",
    "\n",
    "                if cost < cost_min:\n",
    "                    cost_min  = cost\n",
    "                    disparity = d\n",
    "\n",
    "            # Let depth at (y, x) = d (disparity)\n",
    "            # Multiply by a scale factor for visualization purpose\n",
    "            depth[y, x] = disparity * scale\n",
    "\n",
    "    if save_result == True:\n",
    "        print('Saving result...')\n",
    "        cv2.imwrite(f'pixel_wise_l2.png', depth)\n",
    "        cv2.imwrite(f'pixel_wise_l2_color.png', cv2.applyColorMap(depth, cv2.COLORMAP_JET))\n",
    "    print('Done.')\n",
    "    return depth"
   ]
  },
  {
   "cell_type": "code",
   "execution_count": 7,
   "metadata": {},
   "outputs": [
    {
     "name": "stdout",
     "output_type": "stream",
     "text": [
      "Saving result...\n",
      "Done.\n"
     ]
    },
    {
     "ename": "",
     "evalue": "",
     "output_type": "error",
     "traceback": [
      "\u001b[1;31mThe Kernel crashed while executing code in the current cell or a previous cell. \n",
      "\u001b[1;31mPlease review the code in the cell(s) to identify a possible cause of the failure. \n",
      "\u001b[1;31mClick <a href='https://aka.ms/vscodeJupyterKernelCrash'>here</a> for more info. \n",
      "\u001b[1;31mView Jupyter <a href='command:jupyter.viewOutput'>log</a> for further details."
     ]
    }
   ],
   "source": [
    "# L2 result\n",
    "depth, color = pixel_wise_matching_l2(\n",
    "    left_img_path,\n",
    "    right_img_path,\n",
    "    disparity_range,\n",
    "    save_result=True\n",
    ")\n",
    "cv2.imshow('depth',depth)"
   ]
  }
 ],
 "metadata": {
  "kernelspec": {
   "display_name": "Python 3",
   "language": "python",
   "name": "python3"
  },
  "language_info": {
   "codemirror_mode": {
    "name": "ipython",
    "version": 3
   },
   "file_extension": ".py",
   "mimetype": "text/x-python",
   "name": "python",
   "nbconvert_exporter": "python",
   "pygments_lexer": "ipython3",
   "version": "3.12.4"
  }
 },
 "nbformat": 4,
 "nbformat_minor": 2
}
