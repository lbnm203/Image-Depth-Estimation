{
 "cells": [
  {
   "cell_type": "code",
   "execution_count": 11,
   "metadata": {},
   "outputs": [],
   "source": [
    "import cv2\n",
    "import numpy as np"
   ]
  },
  {
   "cell_type": "code",
   "execution_count": 15,
   "metadata": {},
   "outputs": [],
   "source": [
    "left_img_path = './data/Aloe/Aloe_left_1.png'\n",
    "right_img_path = './data/Aloe/Aloe_right_1.png'\n",
    "disparity_range = 64\n",
    "kernel_size = 3\n"
   ]
  },
  {
   "cell_type": "code",
   "execution_count": 12,
   "metadata": {},
   "outputs": [],
   "source": [
    "left_img_path = './data/Aloe/Aloe_left_1.png'\n",
    "right_img_path = './data/Aloe/Aloe_right_2.png'\n",
    "disparity_range = 64\n",
    "kernel_size = 5"
   ]
  },
  {
   "cell_type": "code",
   "execution_count": 8,
   "metadata": {},
   "outputs": [],
   "source": [
    "def l1_distance(x, y):\n",
    "    return abs(x - y)\n",
    "\n",
    "\n",
    "def window_based_matching_l1(left_img, right_img, disparity_range, kernel_size=5, save_result=True):\n",
    "    # Read left, right image then convert to grayscale and astype float\n",
    "    left = cv2.imread(left_img, 0).astype(np.float32)\n",
    "    right = cv2.imread(right_img, 0).astype(np.float32)\n",
    "\n",
    "    # Initialize h,w = h,w(left)\n",
    "    height, width = left.shape[:2]\n",
    "\n",
    "    # Create blank disparity map\n",
    "    depth = np.zeros((height, width), np.uint8)\n",
    "    kernel_half = int((kernel_size - 1) / 2)\n",
    "    scale = 3\n",
    "    max_value = 255 * 9\n",
    "\n",
    "    for y in range(kernel_half, height - kernel_half):\n",
    "        for x in range(kernel_half, width - kernel_half):\n",
    "            # Find j where cost has minimum value\n",
    "            disparity = 0\n",
    "            cost_min  = 65534\n",
    "\n",
    "            for d in range(disparity_range):\n",
    "                total = 0\n",
    "                value = 0\n",
    "                for v in range(-kernel_half, kernel_half + 1):\n",
    "                    for u in range(-kernel_half, kernel_half + 1):\n",
    "                        value = max_value\n",
    "                        if (x + u - d) >= 0:\n",
    "                            value = l1_distance(\n",
    "                                int(left[y + v, x + u]), int(right[y + v, (x + u) - d]))\n",
    "                        total += value\n",
    "\n",
    "                if total < cost_min:\n",
    "                    cost_min = total\n",
    "                    disparity = d\n",
    "\n",
    "            # Let depth at (y, x) = d (disparity)\n",
    "            # Multiply by a scale factor for visualization purpose\n",
    "            depth[y, x] = disparity * scale\n",
    "\n",
    "    if save_result == True:\n",
    "        print('Saving result...')\n",
    "        cv2.imwrite(f'window_based_l1_o.png', depth)\n",
    "        cv2.imwrite(f'window_based_l1_o_color.png', cv2.applyColorMap(depth, cv2.COLORMAP_JET))\n",
    "    print('Done.')\n",
    "    return depth"
   ]
  },
  {
   "cell_type": "code",
   "execution_count": 9,
   "metadata": {},
   "outputs": [
    {
     "name": "stdout",
     "output_type": "stream",
     "text": [
      "Saving result...\n",
      "Done.\n"
     ]
    },
    {
     "ename": "ValueError",
     "evalue": "too many values to unpack (expected 2)",
     "output_type": "error",
     "traceback": [
      "\u001b[1;31m---------------------------------------------------------------------------\u001b[0m",
      "\u001b[1;31mValueError\u001b[0m                                Traceback (most recent call last)",
      "Cell \u001b[1;32mIn[9], line 2\u001b[0m\n\u001b[0;32m      1\u001b[0m \u001b[38;5;66;03m# L1 Result\u001b[39;00m\n\u001b[1;32m----> 2\u001b[0m depth, color \u001b[38;5;241m=\u001b[39m window_based_matching_l1(\n\u001b[0;32m      3\u001b[0m     left_img_path,\n\u001b[0;32m      4\u001b[0m     right_img_path,\n\u001b[0;32m      5\u001b[0m     disparity_range,\n\u001b[0;32m      6\u001b[0m     kernel_size\u001b[38;5;241m=\u001b[39mkernel_size,\n\u001b[0;32m      7\u001b[0m     save_result\u001b[38;5;241m=\u001b[39m\u001b[38;5;28;01mTrue\u001b[39;00m\n\u001b[0;32m      8\u001b[0m )\n\u001b[0;32m     10\u001b[0m cv2\u001b[38;5;241m.\u001b[39mimshow(\u001b[38;5;124m'\u001b[39m\u001b[38;5;124mdepth\u001b[39m\u001b[38;5;124m'\u001b[39m, depth)\n",
      "\u001b[1;31mValueError\u001b[0m: too many values to unpack (expected 2)"
     ]
    }
   ],
   "source": [
    "# L1 Result\n",
    "depth, color = window_based_matching_l1(\n",
    "    left_img_path,\n",
    "    right_img_path,\n",
    "    disparity_range,\n",
    "    kernel_size=kernel_size,\n",
    "    save_result=True\n",
    ")\n",
    "\n",
    "cv2.imshow('depth', depth)"
   ]
  },
  {
   "cell_type": "code",
   "execution_count": 13,
   "metadata": {},
   "outputs": [],
   "source": [
    "def l2_distance(x, y):\n",
    "    return (x - y) ** 2\n",
    "\n",
    "\n",
    "def window_based_matching_l2(left_img, right_img, disparity_range, kernel_size=5, save_result=True):\n",
    "    # Read left, right image then convert to grayscale and astype float\n",
    "    left = cv2.imread(left_img, 0).astype(np.float32)\n",
    "    right = cv2.imread(right_img, 0).astype(np.float32)\n",
    "\n",
    "    height, width = left.shape[:2]\n",
    "\n",
    "    # Create blank disparity map\n",
    "    depth = np.zeros((height, width), np.uint8)\n",
    "    kernel_half = int((kernel_size - 1) / 2)\n",
    "    scale = 3\n",
    "    max_value = 255 ** 2\n",
    "\n",
    "    for y in range(kernel_half, height-kernel_half):\n",
    "        for x in range(kernel_half, width-kernel_half):\n",
    "            disparity = 0\n",
    "            cost_min  = 65534\n",
    "\n",
    "            for d in range(disparity_range):\n",
    "                total = 0\n",
    "                value = 0\n",
    "                for v in range(-kernel_half, kernel_half + 1):\n",
    "                    for u in range(-kernel_half, kernel_half + 1):\n",
    "                        value = max_value\n",
    "                        if (x + u - d) >= 0:\n",
    "                            value = l2_distance(int(left[y + v, x + u]),  int(right[y + v, (x + u) - d]))\n",
    "                        total += value\n",
    "\n",
    "                if total < cost_min:\n",
    "                    cost_min = total\n",
    "                    disparity = d\n",
    "\n",
    "            # Let depth at (y, x) = d (disparity)\n",
    "            # Multiply by a scale factor for visualization purpose\n",
    "            depth[y, x] = disparity * scale\n",
    "\n",
    "    if save_result == True:\n",
    "        print('Saving result...')\n",
    "        cv2.imwrite(f'window_based_l2_o.png', depth)\n",
    "        cv2.imwrite(f'window_based_l2_0_color.png', cv2.applyColorMap(depth, cv2.COLORMAP_JET))\n",
    "    print('Done.')\n",
    "    return depth"
   ]
  },
  {
   "cell_type": "code",
   "execution_count": 14,
   "metadata": {},
   "outputs": [
    {
     "name": "stdout",
     "output_type": "stream",
     "text": [
      "Saving result...\n",
      "Done.\n"
     ]
    },
    {
     "ename": "",
     "evalue": "",
     "output_type": "error",
     "traceback": [
      "\u001b[1;31mThe Kernel crashed while executing code in the current cell or a previous cell. \n",
      "\u001b[1;31mPlease review the code in the cell(s) to identify a possible cause of the failure. \n",
      "\u001b[1;31mClick <a href='https://aka.ms/vscodeJupyterKernelCrash'>here</a> for more info. \n",
      "\u001b[1;31mView Jupyter <a href='command:jupyter.viewOutput'>log</a> for further details."
     ]
    }
   ],
   "source": [
    "# L2 Result\n",
    "depth = window_based_matching_l2(\n",
    "    left_img_path,\n",
    "    right_img_path,\n",
    "    disparity_range,\n",
    "    kernel_size=kernel_size,\n",
    "    save_result=True\n",
    ")\n",
    "\n",
    "cv2.imshow('depth', depth)"
   ]
  },
  {
   "cell_type": "code",
   "execution_count": null,
   "metadata": {},
   "outputs": [],
   "source": []
  }
 ],
 "metadata": {
  "kernelspec": {
   "display_name": "Python 3",
   "language": "python",
   "name": "python3"
  },
  "language_info": {
   "codemirror_mode": {
    "name": "ipython",
    "version": 3
   },
   "file_extension": ".py",
   "mimetype": "text/x-python",
   "name": "python",
   "nbconvert_exporter": "python",
   "pygments_lexer": "ipython3",
   "version": "3.12.4"
  }
 },
 "nbformat": 4,
 "nbformat_minor": 2
}
